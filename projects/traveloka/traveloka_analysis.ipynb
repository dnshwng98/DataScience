{
 "cells": [
  {
   "cell_type": "markdown",
   "id": "0a7ec641-eaad-4fd8-8deb-d57238053bc4",
   "metadata": {},
   "source": [
    "# Traveloka Hotel Data Analytics"
   ]
  },
  {
   "cell_type": "code",
   "execution_count": 1,
   "id": "76ffc948-add0-4808-a0fb-e3d5468f0c43",
   "metadata": {},
   "outputs": [],
   "source": [
    "from datetime import date\n",
    "from functions import *\n",
    "from selenium import webdriver\n",
    "from selenium.webdriver.common.keys import Keys\n",
    "from selenium.webdriver.common.by import By\n",
    "\n",
    "driver = webdriver.Chrome()\n",
    "driver.get('https://www.traveloka.com/id-id/hotel')"
   ]
  },
  {
   "cell_type": "markdown",
   "id": "92b5cc82-30cd-472f-9142-76421493a843",
   "metadata": {},
   "source": [
    "## 1. Define Hotel Location"
   ]
  },
  {
   "cell_type": "code",
   "execution_count": 2,
   "id": "46245249-773b-40e4-9f74-7fe16fdfaf04",
   "metadata": {
    "scrolled": true
   },
   "outputs": [],
   "source": [
    "search_bar_location = driver.find_element(By.XPATH, \"//div[@class='css-1dbjc4n r-tqpus0']/div[@class='css-1dbjc4n r-1loqt21']/div[@class='css-1dbjc4n']\" + \n",
    "                                          \"/div[@class='css-1dbjc4n r-1awozwy r-18u37iz r-1777fci r-edyy15']\" +\n",
    "                                          \"/input[@class='css-11aywtz r-cwxd7f r-13awgt0 r-t1w4ow r-ubezar r-135wba7 r-bcqeeo r-1ny4l3l r-10paoce r-13n6l4s']\")\n",
    "search_bar_location.clear()\n",
    "search_bar_location.send_keys(\"Medan\")\n",
    "search_bar_location.send_keys(Keys.RETURN)"
   ]
  },
  {
   "cell_type": "code",
   "execution_count": 3,
   "id": "d8bd7ef9-1082-43ff-8d39-2527aac22326",
   "metadata": {},
   "outputs": [],
   "source": [
    "first_item = driver.find_element(By.XPATH, \"//div[@class='css-1dbjc4n']\" + \n",
    "                                               \"/div[@class='css-1dbjc4n r-150rngu r-eqz5dr r-16y2uox r-1wbh5a2 r-11yh6sk r-1rnoaur r-1sncvnh']\" +\n",
    "                                               \"/div[@class='css-1dbjc4n']/div[@class='css-1dbjc4n'][1]\" + \n",
    "                                               \"/div[@class='css-1dbjc4n r-1loqt21 r-1otgn73 r-1i6wzkk r-lrvibr']\" + \n",
    "                                               \"/div[@class='css-1dbjc4n r-14lw9ot r-qklmqi r-1gx4gb9 r-edyy15']\")\n",
    "\n",
    "first_item.click()"
   ]
  },
  {
   "cell_type": "markdown",
   "id": "3d029e6b-e91f-497f-9f55-e53f95d9de2d",
   "metadata": {},
   "source": [
    "## 2. Check In Date"
   ]
  },
  {
   "cell_type": "code",
   "execution_count": 4,
   "id": "53060be4-e1d5-4dab-8132-f1857aafa8ef",
   "metadata": {},
   "outputs": [],
   "source": [
    "search_bar_check_in = driver.find_element(By.XPATH, \"//div[@class='css-1dbjc4n r-1e081e0 r-1ux73yq r-tqpus0'][1]\" + \n",
    "                                           \"/div[@class='css-1dbjc4n r-tqpus0']/div[@class='css-1dbjc4n r-1loqt21']/div[@class='css-1dbjc4n']\" +\n",
    "                                           \"/div[@class='css-1dbjc4n r-1awozwy r-18u37iz r-1777fci r-edyy15']\"+\n",
    "                                           \"/input[@class='css-11aywtz r-cwxd7f r-13awgt0 r-t1w4ow r-ubezar r-135wba7 r-bcqeeo r-1ny4l3l r-10paoce r-13n6l4s']\")\n",
    "search_bar_check_in.click()"
   ]
  },
  {
   "cell_type": "code",
   "execution_count": null,
   "id": "370d522d-04ef-4e31-8a44-b7886727db22",
   "metadata": {},
   "outputs": [],
   "source": [
    "check_in_date = date.fromisoformat(input(\"Check-in date: \"))\n",
    "month_index = define_the_month_index_of_check_in_date_on_the_date_picker(check_in_date)"
   ]
  },
  {
   "cell_type": "code",
   "execution_count": 6,
   "id": "ec320e7b-36f7-43bc-b04d-c751ab568d69",
   "metadata": {},
   "outputs": [],
   "source": [
    "if month_index >= 3:\n",
    "    for index in range(2, month_index):\n",
    "        next_button = driver.find_element(By.XPATH, \"//div[@class='css-1dbjc4n r-cpa5s6'][\" + str(index) +\"]/div[@class='css-1dbjc4n r-18u37iz']\" +\n",
    "                                          \"/div[@class='css-1dbjc4n']/div[@class='css-1dbjc4n r-1awozwy r-14lw9ot r-18u37iz r-1777fci r-1e081e0 r-5njf8e']\" +\n",
    "                                          \"/div[@class='css-1dbjc4n r-u8s1d r-zchlnj']\")\n",
    "        next_button.click()"
   ]
  },
  {
   "cell_type": "code",
   "execution_count": 7,
   "id": "079d62f4-194b-4158-bd8e-3862f6df8c30",
   "metadata": {},
   "outputs": [],
   "source": [
    "driver.find_element(By.XPATH, \"//div[@class='css-1dbjc4n r-cpa5s6'][\" + str(month_index) + \"]/div[@class='css-1dbjc4n r-18u37iz']\" +\n",
    "                                          \"/div[@class='css-1dbjc4n']/div[@class='css-1dbjc4n r-14lw9ot r-6413gk r-14hr28s r-c0cves']\" +\n",
    "                                          \"/div[@class='css-1dbjc4n'][\" + str(check_in_date.day) + \"]\").click()"
   ]
  },
  {
   "cell_type": "markdown",
   "id": "16438935-44ad-4f7a-aa8d-39e5a9f1b6eb",
   "metadata": {},
   "source": [
    "## 3. Durations"
   ]
  },
  {
   "cell_type": "code",
   "execution_count": 50,
   "id": "af92c45e-ae91-452f-935a-5e5bfa4d5a0e",
   "metadata": {},
   "outputs": [],
   "source": [
    "search_bar_durations = driver.find_element(By.XPATH, \"//div[@class='css-1dbjc4n r-1e081e0 r-1ux73yq r-tqpus0'][2]\" + \n",
    "                                           \"/div[@class='css-1dbjc4n r-tqpus0']/div[@class='css-1dbjc4n r-1loqt21']/div[@class='css-1dbjc4n']\" +\n",
    "                                           \"/div[@class='css-1dbjc4n r-1awozwy r-18u37iz r-1777fci r-edyy15']\"+\n",
    "                                           \"/input[@class='css-11aywtz r-cwxd7f r-13awgt0 r-t1w4ow r-ubezar r-135wba7 r-bcqeeo r-1ny4l3l r-10paoce r-13n6l4s']\")\n",
    "search_bar_durations.clear()\n",
    "search_bar_durations.click()"
   ]
  },
  {
   "cell_type": "code",
   "execution_count": null,
   "id": "85737d1f-f3c8-49cc-8408-5e9e24633d1f",
   "metadata": {},
   "outputs": [],
   "source": [
    "durations = input(\"Durations: \")\n",
    "driver.find_element(By.XPATH, \"//div[@class='css-1dbjc4n r-obd0qt r-18u37iz r-69vrnd r-tqpus0']/div[@class='css-1dbjc4n r-1e081e0 r-1ux73yq r-tqpus0'][2]\" + \n",
    "                    \"/div[@class='css-1dbjc4n r-tqpus0']/div[@class='css-1dbjc4n r-14lw9ot r-kdyh1x r-1d2f490 r-1udh08x r-u8s1d r-j76wpu']\" +\n",
    "                    \"/div[@class='css-1dbjc4n']/div[@class='css-1dbjc4n r-150rngu r-eqz5dr r-16y2uox r-1wbh5a2 r-11yh6sk r-1rnoaur r-1sncvnh']\" +\n",
    "                    \"/div[@class='css-1dbjc4n']/div[@class='css-1dbjc4n r-1loqt21 r-1otgn73 r-1i6wzkk r-lrvibr'][\" + durations + \"]\").click()"
   ]
  },
  {
   "cell_type": "markdown",
   "id": "057c9dce-7084-4229-b34e-e06541f08118",
   "metadata": {},
   "source": [
    "## 4. Guests and Rooms"
   ]
  },
  {
   "cell_type": "code",
   "execution_count": 52,
   "id": "5036c098-adc4-4501-ae91-3aac48dfe04f",
   "metadata": {},
   "outputs": [],
   "source": [
    "guests_and_room = driver.find_element(By.XPATH, \"//div[@class='css-1dbjc4n']/div[@class='css-1dbjc4n r-obd0qt r-18u37iz r-69vrnd']/div[@class='css-1dbjc4n r-1e081e0 r-1dgsx37 r-tqpus0']/div[@class='css-1dbjc4n']/div[@class='css-1dbjc4n r-tqpus0']/div[@class='css-1dbjc4n r-1loqt21']/div[@class='css-1dbjc4n']/div[@class='css-1dbjc4n r-1awozwy r-18u37iz r-1777fci r-edyy15']/input[@class='css-11aywtz r-cwxd7f r-13awgt0 r-t1w4ow r-ubezar r-135wba7 r-bcqeeo r-1ny4l3l r-10paoce r-13n6l4s']\")\n",
    "guests_and_room.click()"
   ]
  },
  {
   "cell_type": "markdown",
   "id": "e2b1d7b2-f84b-41b2-be7a-a31f2498e292",
   "metadata": {},
   "source": [
    "### 4.1 Number of Adult"
   ]
  },
  {
   "cell_type": "code",
   "execution_count": 15,
   "id": "73c0b9d3-d809-4a68-83dc-2c975ff4389e",
   "metadata": {},
   "outputs": [],
   "source": [
    "subtract_adult_button = driver.find_element(By.XPATH, \"//div[@class='css-1dbjc4n r-1awozwy r-18u37iz r-1wtj0ep r-1ifxtd0'][1]/div[@class='css-1dbjc4n r-1awozwy r-xoduu5 r-18u37iz']/div[@class='css-1dbjc4n r-1awozwy r-1ihkh82 r-kdyh1x r-1loqt21 r-eu3ka r-1777fci r-1otgn73 r-1i6wzkk r-lrvibr r-1aockid'][1]\")\n",
    "subtract_adult_button.click()"
   ]
  },
  {
   "cell_type": "markdown",
   "id": "989218e2-2cdd-4acd-9ab4-eec918e43635",
   "metadata": {},
   "source": [
    "### 4.2 Number of Child"
   ]
  },
  {
   "cell_type": "code",
   "execution_count": null,
   "id": "39c64127-9947-468d-be9b-585ca01b8820",
   "metadata": {},
   "outputs": [],
   "source": []
  },
  {
   "cell_type": "markdown",
   "id": "d0a775b1-7f26-4657-a0fc-69352bb7cf04",
   "metadata": {},
   "source": [
    "### 4.3 Number of Room"
   ]
  },
  {
   "cell_type": "code",
   "execution_count": null,
   "id": "d4c8b43c-94e8-4994-8c1f-3680459f3346",
   "metadata": {},
   "outputs": [],
   "source": []
  },
  {
   "cell_type": "markdown",
   "id": "f758df52-6a76-42d2-b8f7-2b5080bf5998",
   "metadata": {},
   "source": [
    "### 4.4 Finish"
   ]
  },
  {
   "cell_type": "code",
   "execution_count": 53,
   "id": "5fa95677-833d-47a5-ae1f-53864ac297d3",
   "metadata": {},
   "outputs": [],
   "source": [
    "finish_button = driver.find_element(By.XPATH, \"//div[@class='css-901oao r-t1w4ow r-1b43r93 r-vw2c0b r-rjixqe r-fdjqy7']\")\n",
    "finish_button.click()"
   ]
  },
  {
   "cell_type": "markdown",
   "id": "2ff35db6-e4ba-490d-8ba9-38a175715093",
   "metadata": {},
   "source": [
    "## 5. Search Button"
   ]
  },
  {
   "cell_type": "code",
   "execution_count": 54,
   "id": "2c204644-ba80-4c5c-92b2-24561b6c2559",
   "metadata": {},
   "outputs": [],
   "source": [
    "search_button = driver.find_element(By.XPATH, \"//div[@class='css-18t94o4 css-1dbjc4n r-kdyh1x r-1loqt21 r-eu3ka r-10paoce r-1e081e0 r-5njf8e r-1otgn73 r-lrvibr']\")\n",
    "search_button.click()"
   ]
  },
  {
   "cell_type": "markdown",
   "id": "e9daf4d0-8ea3-4ef1-b987-6991b1509074",
   "metadata": {},
   "source": [
    "## 6. Hotel List"
   ]
  },
  {
   "cell_type": "code",
   "execution_count": 55,
   "id": "2c1679df-de5d-4aea-809f-10406c8bfd03",
   "metadata": {},
   "outputs": [],
   "source": [
    "from bs4 import BeautifulSoup"
   ]
  },
  {
   "cell_type": "code",
   "execution_count": null,
   "id": "e618fe11-c707-4e33-85ef-adf5e93c6d1f",
   "metadata": {},
   "outputs": [],
   "source": [
    "import time\n",
    "from datetime import timedelta, datetime\n",
    "\n",
    "\n",
    "page_url = driver.current_url\n",
    "url_prefix = page_url[:page_url.index(\"spec=\") + len(\"spec=\")]\n",
    "url_postfix = page_url[page_url.index(\".1.1.HOTEL_GEO\"):]\n",
    "check_in_date, check_out_date = page_url[len(url_prefix):page_url.index(url_postfix)].split(\".\")\n",
    "\n",
    "hotel_data = []\n",
    "\n",
    "for day in range(30):\n",
    "    check_in_date_new = datetime.strptime(check_in_date, \"%d-%m-%Y\") + timedelta(days = day)\n",
    "    check_in_date_new = check_in_date_new.strftime(\"%d-%m-%Y\")\n",
    "    check_out_date_new = datetime.strptime(check_out_date, \"%d-%m-%Y\") + timedelta(days = day)\n",
    "    check_out_date_new = check_out_date_new.strftime(\"%d-%m-%Y\")\n",
    "\n",
    "    print(check_in_date_new)\n",
    "    \n",
    "    driver.get(url_prefix + str(check_in_date_new) + \".\" + str(check_out_date_new) + url_postfix)\n",
    "    time.sleep(4)\n",
    "    soup = BeautifulSoup(driver.page_source, \"html.parser\")\n",
    "    hotels = soup.find_all(\"h3\", class_ = \"css-4rbku5 css-901oao css-bfa6kz r-t1w4ow r-ubezar r-b88u0q r-rjixqe r-fdjqy7\")\n",
    "    prices = soup.find_all(\"div\", class_ = \"css-901oao r-t1w4ow r-adyw6z r-b88u0q r-135wba7 r-1ff274t\")\n",
    "    prices = reformat_price(prices)\n",
    "    ratings, reviewers = define_hotel_rating_and_reviewers(hotels)\n",
    "    \n",
    "    for index in range(len(hotels)):\n",
    "        hotel_data.append([hotels[index].string, check_in_date_new, prices[index], ratings[index], reviewers[index]])"
   ]
  },
  {
   "cell_type": "code",
   "execution_count": 11,
   "id": "d665dacc-5928-4d40-b536-d42115c2afa9",
   "metadata": {},
   "outputs": [],
   "source": [
    "import pandas as pd\n",
    "\n",
    "# Convert the nested data to a DataFrame\n",
    "hotel = pd.DataFrame(hotel_data, columns = [\"Name\", \"Check-In Date\", \"Price\", \"Rating\", \"Reviewer\"])\n",
    "\n",
    "# hotel.set_index([\"Check-In Date\", \"Name\"], inplace = True)\n",
    "\n",
    "# Save the DataFrame to an Excel file\n",
    "hotel.to_excel(\"./data/output_3.xlsx\")"
   ]
  },
  {
   "cell_type": "code",
   "execution_count": 11,
   "id": "6542058b-14a0-4c02-8b81-42b0aaf1e3a4",
   "metadata": {},
   "outputs": [],
   "source": [
    "driver.close()"
   ]
  }
 ],
 "metadata": {
  "kernelspec": {
   "display_name": "Python 3 (ipykernel)",
   "language": "python",
   "name": "python3"
  },
  "language_info": {
   "codemirror_mode": {
    "name": "ipython",
    "version": 3
   },
   "file_extension": ".py",
   "mimetype": "text/x-python",
   "name": "python",
   "nbconvert_exporter": "python",
   "pygments_lexer": "ipython3",
   "version": "3.12.0"
  }
 },
 "nbformat": 4,
 "nbformat_minor": 5
}
