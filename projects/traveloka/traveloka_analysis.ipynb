{
 "cells": [
  {
   "cell_type": "markdown",
   "id": "0a7ec641-eaad-4fd8-8deb-d57238053bc4",
   "metadata": {},
   "source": [
    "# Traveloka Hotel Data Analytics"
   ]
  },
  {
   "cell_type": "code",
   "execution_count": 1,
   "id": "76ffc948-add0-4808-a0fb-e3d5468f0c43",
   "metadata": {},
   "outputs": [],
   "source": [
    "from datetime import date\n",
    "from functions import *\n",
    "from selenium import webdriver\n",
    "from selenium.webdriver.common.keys import Keys\n",
    "from selenium.webdriver.common.by import By\n",
    "\n",
    "driver = webdriver.Chrome()\n",
    "driver.get('https://www.traveloka.com/id-id/hotel')"
   ]
  },
  {
   "cell_type": "markdown",
   "id": "92b5cc82-30cd-472f-9142-76421493a843",
   "metadata": {},
   "source": [
    "## 1. Define Hotel Location"
   ]
  },
  {
   "cell_type": "code",
   "execution_count": 2,
   "id": "46245249-773b-40e4-9f74-7fe16fdfaf04",
   "metadata": {
    "scrolled": true
   },
   "outputs": [],
   "source": [
    "search_bar_location = driver.find_element(By.XPATH, \"//div[@class='css-1dbjc4n r-tqpus0']/div[@class='css-1dbjc4n r-1loqt21']/div[@class='css-1dbjc4n']\" + \n",
    "                                          \"/div[@class='css-1dbjc4n r-1awozwy r-18u37iz r-1777fci r-edyy15']\" +\n",
    "                                          \"/input[@class='css-11aywtz r-cwxd7f r-13awgt0 r-t1w4ow r-ubezar r-135wba7 r-bcqeeo r-1ny4l3l r-10paoce r-13n6l4s']\")\n",
    "search_bar_location.clear()\n",
    "search_bar_location.send_keys(\"Medan\")\n",
    "search_bar_location.send_keys(Keys.RETURN)"
   ]
  },
  {
   "cell_type": "code",
   "execution_count": 3,
   "id": "d8bd7ef9-1082-43ff-8d39-2527aac22326",
   "metadata": {},
   "outputs": [],
   "source": [
    "first_item = driver.find_element(By.XPATH, \"//div[@class='css-1dbjc4n']\" + \n",
    "                                               \"/div[@class='css-1dbjc4n r-150rngu r-eqz5dr r-16y2uox r-1wbh5a2 r-11yh6sk r-1rnoaur r-1sncvnh']\" +\n",
    "                                               \"/div[@class='css-1dbjc4n']/div[@class='css-1dbjc4n'][1]\" + \n",
    "                                               \"/div[@class='css-1dbjc4n r-1loqt21 r-1otgn73 r-1i6wzkk r-lrvibr']\" + \n",
    "                                               \"/div[@class='css-1dbjc4n r-14lw9ot r-qklmqi r-1gx4gb9 r-edyy15']\")\n",
    "\n",
    "first_item.click()"
   ]
  },
  {
   "cell_type": "markdown",
   "id": "3d029e6b-e91f-497f-9f55-e53f95d9de2d",
   "metadata": {},
   "source": [
    "## 2. Check In Date"
   ]
  },
  {
   "cell_type": "code",
   "execution_count": 6,
   "id": "53060be4-e1d5-4dab-8132-f1857aafa8ef",
   "metadata": {},
   "outputs": [],
   "source": [
    "search_bar_check_in = driver.find_element(By.XPATH, \"//div[@class='css-1dbjc4n r-1e081e0 r-1ux73yq r-tqpus0'][1]\" + \n",
    "                                           \"/div[@class='css-1dbjc4n r-tqpus0']/div[@class='css-1dbjc4n r-1loqt21']/div[@class='css-1dbjc4n']\" +\n",
    "                                           \"/div[@class='css-1dbjc4n r-1awozwy r-18u37iz r-1777fci r-edyy15']\"+\n",
    "                                           \"/input[@class='css-11aywtz r-cwxd7f r-13awgt0 r-t1w4ow r-ubezar r-135wba7 r-bcqeeo r-1ny4l3l r-10paoce r-13n6l4s']\")\n",
    "search_bar_check_in.click()"
   ]
  },
  {
   "cell_type": "code",
   "execution_count": 7,
   "id": "370d522d-04ef-4e31-8a44-b7886727db22",
   "metadata": {},
   "outputs": [
    {
     "name": "stdin",
     "output_type": "stream",
     "text": [
      "Check-in date:  2023-11-11\n"
     ]
    }
   ],
   "source": [
    "check_in_date = date.fromisoformat(input(\"Check-in date: \"))\n",
    "month_index = define_the_month_index_of_check_in_date_on_the_date_picker(check_in_date)"
   ]
  },
  {
   "cell_type": "code",
   "execution_count": 9,
   "id": "ec320e7b-36f7-43bc-b04d-c751ab568d69",
   "metadata": {},
   "outputs": [],
   "source": [
    "if month_index >= 3:\n",
    "    for index in range(2, month_index):\n",
    "        next_button = driver.find_element(By.XPATH, \"//div[@class='css-1dbjc4n r-cpa5s6'][\" + str(index) +\"]/div[@class='css-1dbjc4n r-18u37iz']\" +\n",
    "                                          \"/div[@class='css-1dbjc4n']/div[@class='css-1dbjc4n r-1awozwy r-14lw9ot r-18u37iz r-1777fci r-1e081e0 r-5njf8e']\" +\n",
    "                                          \"/div[@class='css-1dbjc4n r-u8s1d r-zchlnj']\")\n",
    "        next_button.click()"
   ]
  },
  {
   "cell_type": "code",
   "execution_count": 10,
   "id": "079d62f4-194b-4158-bd8e-3862f6df8c30",
   "metadata": {},
   "outputs": [],
   "source": [
    "driver.find_element(By.XPATH, \"//div[@class='css-1dbjc4n r-cpa5s6'][\" + str(month_index) + \"]/div[@class='css-1dbjc4n r-18u37iz']\" +\n",
    "                                          \"/div[@class='css-1dbjc4n']/div[@class='css-1dbjc4n r-14lw9ot r-6413gk r-14hr28s r-c0cves']\" +\n",
    "                                          \"/div[@class='css-1dbjc4n'][\" + str(check_in_date.day) + \"]\").click()"
   ]
  },
  {
   "cell_type": "markdown",
   "id": "16438935-44ad-4f7a-aa8d-39e5a9f1b6eb",
   "metadata": {},
   "source": [
    "## 3. Durations"
   ]
  },
  {
   "cell_type": "code",
   "execution_count": 25,
   "id": "af92c45e-ae91-452f-935a-5e5bfa4d5a0e",
   "metadata": {},
   "outputs": [],
   "source": [
    "search_bar_durations = driver.find_element(By.XPATH, \"//div[@class='css-1dbjc4n r-1e081e0 r-1ux73yq r-tqpus0'][2]\" + \n",
    "                                           \"/div[@class='css-1dbjc4n r-tqpus0']/div[@class='css-1dbjc4n r-1loqt21']/div[@class='css-1dbjc4n']\" +\n",
    "                                           \"/div[@class='css-1dbjc4n r-1awozwy r-18u37iz r-1777fci r-edyy15']\"+\n",
    "                                           \"/input[@class='css-11aywtz r-cwxd7f r-13awgt0 r-t1w4ow r-ubezar r-135wba7 r-bcqeeo r-1ny4l3l r-10paoce r-13n6l4s']\")\n",
    "search_bar_durations.clear()\n",
    "search_bar_durations.click()"
   ]
  },
  {
   "cell_type": "code",
   "execution_count": 26,
   "id": "85737d1f-f3c8-49cc-8408-5e9e24633d1f",
   "metadata": {},
   "outputs": [
    {
     "name": "stdin",
     "output_type": "stream",
     "text": [
      "Durations:  1\n"
     ]
    }
   ],
   "source": [
    "durations = input(\"Durations: \")\n",
    "driver.find_element(By.XPATH, \"//div[@class='css-1dbjc4n']/div[@class='css-1dbjc4n r-150rngu r-eqz5dr r-16y2uox r-1wbh5a2 r-11yh6sk r-1rnoaur r-1sncvnh']\" +\n",
    "                    \"/div[@class='css-1dbjc4n']/div[@class='css-1dbjc4n r-1loqt21 r-1otgn73 r-1i6wzkk r-lrvibr'][\" + durations + \"]\").click()"
   ]
  },
  {
   "cell_type": "markdown",
   "id": "057c9dce-7084-4229-b34e-e06541f08118",
   "metadata": {},
   "source": [
    "## 4. Guests and Rooms"
   ]
  },
  {
   "cell_type": "code",
   "execution_count": 4,
   "id": "5036c098-adc4-4501-ae91-3aac48dfe04f",
   "metadata": {},
   "outputs": [],
   "source": [
    "guests_and_room = driver.find_element(By.XPATH, \"//div[@class='css-1dbjc4n']/div[@class='css-1dbjc4n r-obd0qt r-18u37iz r-69vrnd']/div[@class='css-1dbjc4n r-1e081e0 r-1dgsx37 r-tqpus0']/div[@class='css-1dbjc4n']/div[@class='css-1dbjc4n r-tqpus0']/div[@class='css-1dbjc4n r-1loqt21']/div[@class='css-1dbjc4n']/div[@class='css-1dbjc4n r-1awozwy r-18u37iz r-1777fci r-edyy15']/input[@class='css-11aywtz r-cwxd7f r-13awgt0 r-t1w4ow r-ubezar r-135wba7 r-bcqeeo r-1ny4l3l r-10paoce r-13n6l4s']\")\n",
    "guests_and_room.click()"
   ]
  },
  {
   "cell_type": "markdown",
   "id": "e2b1d7b2-f84b-41b2-be7a-a31f2498e292",
   "metadata": {},
   "source": [
    "### 4.1 Number of Adult"
   ]
  },
  {
   "cell_type": "code",
   "execution_count": 5,
   "id": "73c0b9d3-d809-4a68-83dc-2c975ff4389e",
   "metadata": {},
   "outputs": [],
   "source": [
    "subtract_adult_button = driver.find_element(By.XPATH, \"//div[@class='css-1dbjc4n r-1awozwy r-18u37iz r-1wtj0ep r-1ifxtd0'][1]/div[@class='css-1dbjc4n r-1awozwy r-xoduu5 r-18u37iz']/div[@class='css-1dbjc4n r-1awozwy r-1ihkh82 r-kdyh1x r-1loqt21 r-eu3ka r-1777fci r-1otgn73 r-1i6wzkk r-lrvibr r-1aockid'][1]\")\n",
    "subtract_adult_button.click()"
   ]
  },
  {
   "cell_type": "markdown",
   "id": "989218e2-2cdd-4acd-9ab4-eec918e43635",
   "metadata": {},
   "source": [
    "### 4.2 Number of Child"
   ]
  },
  {
   "cell_type": "code",
   "execution_count": null,
   "id": "39c64127-9947-468d-be9b-585ca01b8820",
   "metadata": {},
   "outputs": [],
   "source": []
  },
  {
   "cell_type": "markdown",
   "id": "d0a775b1-7f26-4657-a0fc-69352bb7cf04",
   "metadata": {},
   "source": [
    "### 4.3 Number of Room"
   ]
  },
  {
   "cell_type": "code",
   "execution_count": null,
   "id": "d4c8b43c-94e8-4994-8c1f-3680459f3346",
   "metadata": {},
   "outputs": [],
   "source": []
  },
  {
   "cell_type": "markdown",
   "id": "f758df52-6a76-42d2-b8f7-2b5080bf5998",
   "metadata": {},
   "source": [
    "### 4.4 Finish"
   ]
  },
  {
   "cell_type": "code",
   "execution_count": 6,
   "id": "5fa95677-833d-47a5-ae1f-53864ac297d3",
   "metadata": {},
   "outputs": [],
   "source": [
    "finish_button = driver.find_element(By.XPATH, \"//div[@class='css-901oao r-t1w4ow r-1b43r93 r-vw2c0b r-rjixqe r-fdjqy7']\")\n",
    "finish_button.click()"
   ]
  },
  {
   "cell_type": "markdown",
   "id": "2ff35db6-e4ba-490d-8ba9-38a175715093",
   "metadata": {},
   "source": [
    "## 5. Search Button"
   ]
  },
  {
   "cell_type": "code",
   "execution_count": 7,
   "id": "2c204644-ba80-4c5c-92b2-24561b6c2559",
   "metadata": {},
   "outputs": [],
   "source": [
    "search_button = driver.find_element(By.XPATH, \"//div[@class='css-18t94o4 css-1dbjc4n r-kdyh1x r-1loqt21 r-eu3ka r-10paoce r-1e081e0 r-5njf8e r-1otgn73 r-lrvibr']\")\n",
    "search_button.click()"
   ]
  },
  {
   "cell_type": "markdown",
   "id": "e9daf4d0-8ea3-4ef1-b987-6991b1509074",
   "metadata": {},
   "source": [
    "## 6. Hotel List"
   ]
  },
  {
   "cell_type": "code",
   "execution_count": 8,
   "id": "2c1679df-de5d-4aea-809f-10406c8bfd03",
   "metadata": {},
   "outputs": [],
   "source": [
    "from bs4 import BeautifulSoup"
   ]
  },
  {
   "cell_type": "code",
   "execution_count": 15,
   "id": "e618fe11-c707-4e33-85ef-adf5e93c6d1f",
   "metadata": {
    "scrolled": true
   },
   "outputs": [
    {
     "name": "stdout",
     "output_type": "stream",
     "text": [
      "07-11-2023\n",
      "08-11-2023\n",
      "09-11-2023\n",
      "10-11-2023\n",
      "11-11-2023\n",
      "12-11-2023\n",
      "13-11-2023\n",
      "14-11-2023\n",
      "15-11-2023\n",
      "16-11-2023\n",
      "17-11-2023\n",
      "18-11-2023\n",
      "19-11-2023\n",
      "20-11-2023\n",
      "21-11-2023\n",
      "22-11-2023\n",
      "23-11-2023\n",
      "24-11-2023\n",
      "25-11-2023\n",
      "26-11-2023\n",
      "27-11-2023\n",
      "28-11-2023\n",
      "29-11-2023\n",
      "30-11-2023\n",
      "01-12-2023\n",
      "02-12-2023\n",
      "03-12-2023\n",
      "04-12-2023\n",
      "05-12-2023\n",
      "06-12-2023\n"
     ]
    }
   ],
   "source": [
    "import time\n",
    "from datetime import timedelta, datetime\n",
    "\n",
    "\n",
    "page_url = driver.current_url\n",
    "url_prefix = page_url[:page_url.index(\"spec=\") + len(\"spec=\")]\n",
    "url_postfix = page_url[page_url.index(\".1.1.HOTEL_GEO\"):]\n",
    "check_in_date, check_out_date = page_url[len(url_prefix):page_url.index(url_postfix)].split(\".\")\n",
    "\n",
    "hotel_data = []\n",
    "\n",
    "for day in range(30):\n",
    "    check_in_date_new = datetime.strptime(check_in_date, \"%d-%m-%Y\") + timedelta(days = day)\n",
    "    check_in_date_new = check_in_date_new.strftime(\"%d-%m-%Y\")\n",
    "    check_out_date_new = datetime.strptime(check_out_date, \"%d-%m-%Y\") + timedelta(days = day)\n",
    "    check_out_date_new = check_out_date_new.strftime(\"%d-%m-%Y\")\n",
    "\n",
    "    print(check_in_date_new)\n",
    "    \n",
    "    driver.get(url_prefix + str(check_in_date_new) + \".\" + str(check_out_date_new) + url_postfix)\n",
    "    time.sleep(5)\n",
    "    soup = BeautifulSoup(driver.page_source, \"html.parser\")\n",
    "    hotels = soup.find_all(\"h3\", class_ = \"css-4rbku5 css-901oao css-bfa6kz r-t1w4ow r-ubezar r-b88u0q r-rjixqe r-fdjqy7\")\n",
    "    prices = soup.find_all(\"div\", class_ = \"css-901oao r-t1w4ow r-adyw6z r-b88u0q r-135wba7 r-1ff274t\")\n",
    "    prices = reformat_price(prices)\n",
    "    ratings, reviewers = define_hotel_rating_and_reviewers(hotels)\n",
    "    \n",
    "    for index in range(len(hotels)):\n",
    "        hotel_data.append([hotels[index].string, check_in_date_new, prices[index], ratings[index], reviewers[index]])"
   ]
  },
  {
   "cell_type": "code",
   "execution_count": 16,
   "id": "d665dacc-5928-4d40-b536-d42115c2afa9",
   "metadata": {},
   "outputs": [],
   "source": [
    "import pandas as pd\n",
    "\n",
    "# Convert the nested data to a DataFrame\n",
    "hotel = pd.DataFrame(hotel_data, columns = [\"Name\", \"Check-In Date\", \"Price\", \"Rating\", \"Reviewer\"])\n",
    "\n",
    "# hotel.set_index([\"Check-In Date\", \"Name\"], inplace = True)\n",
    "\n",
    "# Save the DataFrame to an Excel file\n",
    "hotel.to_excel(\"./data/hotel_data.xlsx\")"
   ]
  },
  {
   "cell_type": "code",
   "execution_count": 17,
   "id": "a453b960-e552-4b52-bf0d-4c9a1ff917e4",
   "metadata": {},
   "outputs": [
    {
     "data": {
      "text/html": [
       "<div>\n",
       "<style scoped>\n",
       "    .dataframe tbody tr th:only-of-type {\n",
       "        vertical-align: middle;\n",
       "    }\n",
       "\n",
       "    .dataframe tbody tr th {\n",
       "        vertical-align: top;\n",
       "    }\n",
       "\n",
       "    .dataframe thead th {\n",
       "        text-align: right;\n",
       "    }\n",
       "</style>\n",
       "<table border=\"1\" class=\"dataframe\">\n",
       "  <thead>\n",
       "    <tr style=\"text-align: right;\">\n",
       "      <th></th>\n",
       "      <th>Name</th>\n",
       "      <th>Check-In Date</th>\n",
       "      <th>Price</th>\n",
       "      <th>Rating</th>\n",
       "      <th>Reviewer</th>\n",
       "    </tr>\n",
       "  </thead>\n",
       "  <tbody>\n",
       "    <tr>\n",
       "      <th>0</th>\n",
       "      <td>Cambridge Hotel Medan</td>\n",
       "      <td>07-11-2023</td>\n",
       "      <td>1150000</td>\n",
       "      <td>8.4</td>\n",
       "      <td>2100</td>\n",
       "    </tr>\n",
       "    <tr>\n",
       "      <th>1</th>\n",
       "      <td>Aryaduta Medan</td>\n",
       "      <td>07-11-2023</td>\n",
       "      <td>945811</td>\n",
       "      <td>8.3</td>\n",
       "      <td>2100</td>\n",
       "    </tr>\n",
       "    <tr>\n",
       "      <th>2</th>\n",
       "      <td>Adimulia Hotel Medan</td>\n",
       "      <td>07-11-2023</td>\n",
       "      <td>1200000</td>\n",
       "      <td>8.5</td>\n",
       "      <td>2900</td>\n",
       "    </tr>\n",
       "    <tr>\n",
       "      <th>3</th>\n",
       "      <td>Grand City Hall Medan</td>\n",
       "      <td>07-11-2023</td>\n",
       "      <td>1180000</td>\n",
       "      <td>8.5</td>\n",
       "      <td>1600</td>\n",
       "    </tr>\n",
       "    <tr>\n",
       "      <th>4</th>\n",
       "      <td>Swiss-Belinn Medan</td>\n",
       "      <td>07-11-2023</td>\n",
       "      <td>585000</td>\n",
       "      <td>8.3</td>\n",
       "      <td>2000</td>\n",
       "    </tr>\n",
       "    <tr>\n",
       "      <th>...</th>\n",
       "      <td>...</td>\n",
       "      <td>...</td>\n",
       "      <td>...</td>\n",
       "      <td>...</td>\n",
       "      <td>...</td>\n",
       "    </tr>\n",
       "    <tr>\n",
       "      <th>2988</th>\n",
       "      <td>Super OYO 621 Vania Residence</td>\n",
       "      <td>06-12-2023</td>\n",
       "      <td>136929</td>\n",
       "      <td>8.1</td>\n",
       "      <td>135</td>\n",
       "    </tr>\n",
       "    <tr>\n",
       "      <th>2989</th>\n",
       "      <td>My Studio Hotel Kualanamu Airport Medan</td>\n",
       "      <td>06-12-2023</td>\n",
       "      <td>79999</td>\n",
       "      <td>7.7</td>\n",
       "      <td>197</td>\n",
       "    </tr>\n",
       "    <tr>\n",
       "      <th>2990</th>\n",
       "      <td>Thong's Inn Hotel Kualanamu</td>\n",
       "      <td>06-12-2023</td>\n",
       "      <td>450000</td>\n",
       "      <td>8.1</td>\n",
       "      <td>163</td>\n",
       "    </tr>\n",
       "    <tr>\n",
       "      <th>2991</th>\n",
       "      <td>Super OYO 2361 Hotel Winston</td>\n",
       "      <td>06-12-2023</td>\n",
       "      <td>143348</td>\n",
       "      <td>6.9</td>\n",
       "      <td>93</td>\n",
       "    </tr>\n",
       "    <tr>\n",
       "      <th>2992</th>\n",
       "      <td>RedDoorz Plus @ Jalan Letda Sujono Medan 2</td>\n",
       "      <td>06-12-2023</td>\n",
       "      <td>136000</td>\n",
       "      <td>6.9</td>\n",
       "      <td>5</td>\n",
       "    </tr>\n",
       "  </tbody>\n",
       "</table>\n",
       "<p>2993 rows × 5 columns</p>\n",
       "</div>"
      ],
      "text/plain": [
       "                                            Name Check-In Date    Price  \\\n",
       "0                          Cambridge Hotel Medan    07-11-2023  1150000   \n",
       "1                                 Aryaduta Medan    07-11-2023   945811   \n",
       "2                           Adimulia Hotel Medan    07-11-2023  1200000   \n",
       "3                          Grand City Hall Medan    07-11-2023  1180000   \n",
       "4                             Swiss-Belinn Medan    07-11-2023   585000   \n",
       "...                                          ...           ...      ...   \n",
       "2988               Super OYO 621 Vania Residence    06-12-2023   136929   \n",
       "2989     My Studio Hotel Kualanamu Airport Medan    06-12-2023    79999   \n",
       "2990                 Thong's Inn Hotel Kualanamu    06-12-2023   450000   \n",
       "2991                Super OYO 2361 Hotel Winston    06-12-2023   143348   \n",
       "2992  RedDoorz Plus @ Jalan Letda Sujono Medan 2    06-12-2023   136000   \n",
       "\n",
       "      Rating  Reviewer  \n",
       "0        8.4      2100  \n",
       "1        8.3      2100  \n",
       "2        8.5      2900  \n",
       "3        8.5      1600  \n",
       "4        8.3      2000  \n",
       "...      ...       ...  \n",
       "2988     8.1       135  \n",
       "2989     7.7       197  \n",
       "2990     8.1       163  \n",
       "2991     6.9        93  \n",
       "2992     6.9         5  \n",
       "\n",
       "[2993 rows x 5 columns]"
      ]
     },
     "execution_count": 17,
     "metadata": {},
     "output_type": "execute_result"
    }
   ],
   "source": [
    "hotel"
   ]
  },
  {
   "cell_type": "code",
   "execution_count": 18,
   "id": "6542058b-14a0-4c02-8b81-42b0aaf1e3a4",
   "metadata": {},
   "outputs": [],
   "source": [
    "driver.close()"
   ]
  },
  {
   "cell_type": "code",
   "execution_count": null,
   "id": "05130059-6538-4f19-84bd-8e706675cbd0",
   "metadata": {},
   "outputs": [],
   "source": []
  }
 ],
 "metadata": {
  "kernelspec": {
   "display_name": "Python 3 (ipykernel)",
   "language": "python",
   "name": "python3"
  },
  "language_info": {
   "codemirror_mode": {
    "name": "ipython",
    "version": 3
   },
   "file_extension": ".py",
   "mimetype": "text/x-python",
   "name": "python",
   "nbconvert_exporter": "python",
   "pygments_lexer": "ipython3",
   "version": "3.12.0"
  }
 },
 "nbformat": 4,
 "nbformat_minor": 5
}
