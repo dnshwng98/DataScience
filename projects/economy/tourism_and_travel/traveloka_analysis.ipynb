{
 "cells": [
  {
   "cell_type": "markdown",
   "id": "0a7ec641-eaad-4fd8-8deb-d57238053bc4",
   "metadata": {},
   "source": [
    "# Traveloka Hotel Data Analytics"
   ]
  },
  {
   "cell_type": "markdown",
   "id": "5c4d3c76-d817-40a2-bb97-0154ba6d8d31",
   "metadata": {},
   "source": [
    "### Test"
   ]
  },
  {
   "cell_type": "code",
   "execution_count": 1,
   "id": "f37fab69-4dc6-49c2-855f-52c744a3ed64",
   "metadata": {
    "editable": true,
    "slideshow": {
     "slide_type": ""
    },
    "tags": []
   },
   "outputs": [],
   "source": [
    "import sys\n",
    "sys.path.insert(0, \"C:\\\\Projects\\\\Python\\\\DataScience\")"
   ]
  },
  {
   "cell_type": "code",
   "execution_count": 2,
   "id": "233e0414-b5b4-4455-8b9a-c65af4d64595",
   "metadata": {
    "editable": true,
    "slideshow": {
     "slide_type": ""
    },
    "tags": []
   },
   "outputs": [],
   "source": [
    "from bs4 import BeautifulSoup\n",
    "import pandas as pd\n",
    "import urllib3"
   ]
  },
  {
   "cell_type": "code",
   "execution_count": 3,
   "id": "207d15f4-0f27-4e9b-a236-dc1746e7a343",
   "metadata": {
    "editable": true,
    "slideshow": {
     "slide_type": ""
    },
    "tags": []
   },
   "outputs": [
    {
     "data": {
      "text/plain": [
       "102746"
      ]
     },
     "execution_count": 3,
     "metadata": {},
     "output_type": "execute_result"
    }
   ],
   "source": [
    "hotel_geo_data = pd.read_csv(\"C:/Projects/Python/DataScience/data/traveloka/traveloka hotel geo data.csv\")\n",
    "hotel_geo_data = hotel_geo_data.set_index(\"location\")\n",
    "hotel_geo_data.loc[\"Bali\"][\"hotel_geo_id\"]"
   ]
  },
  {
   "cell_type": "code",
   "execution_count": 4,
   "id": "8249b8d6-c727-4626-8161-379a6a992475",
   "metadata": {
    "editable": true,
    "slideshow": {
     "slide_type": ""
    },
    "tags": []
   },
   "outputs": [
    {
     "name": "stdin",
     "output_type": "stream",
     "text": [
      "Date in dd-MM-yyyy format:  11-11-2023\n",
      "Number of nights:  1\n",
      "Number of rooms:  1\n",
      "Location:  Bali\n",
      "Number of guests:  1\n"
     ]
    }
   ],
   "source": [
    "from utils.functions import *\n",
    "\n",
    "start_date = input(\"Date in dd-MM-yyyy format: \")\n",
    "durations = input(\"Number of nights: \")\n",
    "end_date = date_arithmetics(start_date, int(durations))\n",
    "rooms = input(\"Number of rooms: \")\n",
    "\n",
    "location = input(\"Location: \")\n",
    "hotel_geo_id = get_hotel_geo_id_based_on_location(location)\n",
    "guests = input(\"Number of guests: \")"
   ]
  },
  {
   "cell_type": "code",
   "execution_count": 16,
   "id": "6a5f1b24-4b60-438d-867d-77e4eb56b62f",
   "metadata": {},
   "outputs": [
    {
     "data": {
      "text/plain": [
       "'https://www.traveloka.com/id-id/hotel/search?spec=11-11-2023.12-11-2023.1.1.HOTEL_GEO.102746.Bali.1'"
      ]
     },
     "execution_count": 16,
     "metadata": {},
     "output_type": "execute_result"
    }
   ],
   "source": [
    "\"https://www.traveloka.com/id-id/hotel/search?spec=\" + start_date + \".\" + end_date + \".\" + durations + \".\" + rooms \\\n",
    "                           + \".HOTEL_GEO.\" + str(hotel_geo_id) + \".\" + location + \".\" + guests"
   ]
  },
  {
   "cell_type": "code",
   "execution_count": 7,
   "id": "5e333340-02a1-48e9-a8f6-81680e460f8a",
   "metadata": {
    "editable": true,
    "slideshow": {
     "slide_type": ""
    },
    "tags": []
   },
   "outputs": [],
   "source": [
    "response = urllib3.request(\"GET\", \"https://www.traveloka.com/id-id/hotel/search?spec=\" + start_date + \".\" + end_date + \".\" + durations + \".\" + rooms \n",
    "                           + \".HOTEL_GEO.\" + str(hotel_geo_id) + \".\" + location + \".\" + guests)"
   ]
  },
  {
   "cell_type": "code",
   "execution_count": 8,
   "id": "6081a168-f5ea-4c77-ae97-f71f4389a437",
   "metadata": {
    "editable": true,
    "slideshow": {
     "slide_type": ""
    },
    "tags": []
   },
   "outputs": [],
   "source": [
    "html_data = BeautifulSoup(response.data, 'html.parser')"
   ]
  },
  {
   "cell_type": "code",
   "execution_count": 14,
   "id": "32e6bf9b-9dc4-42c3-8021-40413ac8b182",
   "metadata": {
    "editable": true,
    "scrolled": true,
    "slideshow": {
     "slide_type": ""
    },
    "tags": []
   },
   "outputs": [
    {
     "data": {
      "text/plain": [
       "<title>Hotel di Bali tanggal 11-Nov-2023 sampai 12-Nov-2023</title>"
      ]
     },
     "execution_count": 14,
     "metadata": {},
     "output_type": "execute_result"
    }
   ],
   "source": [
    "html_data.title"
   ]
  },
  {
   "cell_type": "code",
   "execution_count": null,
   "id": "a5dfb701-ddd0-4c25-bd65-85ff0227b81f",
   "metadata": {},
   "outputs": [],
   "source": []
  }
 ],
 "metadata": {
  "kernelspec": {
   "display_name": "Python 3 (ipykernel)",
   "language": "python",
   "name": "python3"
  },
  "language_info": {
   "codemirror_mode": {
    "name": "ipython",
    "version": 3
   },
   "file_extension": ".py",
   "mimetype": "text/x-python",
   "name": "python",
   "nbconvert_exporter": "python",
   "pygments_lexer": "ipython3",
   "version": "3.12.0"
  }
 },
 "nbformat": 4,
 "nbformat_minor": 5
}
