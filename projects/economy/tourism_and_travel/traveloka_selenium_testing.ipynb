{
 "cells": [
  {
   "cell_type": "code",
   "execution_count": 16,
   "id": "653a9c9e-56b9-47af-a37e-b0062065ec2a",
   "metadata": {},
   "outputs": [],
   "source": [
    "from selenium import webdriver\n",
    "from selenium.webdriver.common.keys import Keys\n",
    "from selenium.webdriver.common.by import By\n",
    "\n",
    "driver = webdriver.Chrome()\n",
    "driver.get('https://www.traveloka.com/id-id/hotel')"
   ]
  },
  {
   "cell_type": "code",
   "execution_count": 14,
   "id": "b238d6fe-16ca-4866-be5a-b8ab2b6c1677",
   "metadata": {
    "scrolled": true
   },
   "outputs": [
    {
     "ename": "NoSuchElementException",
     "evalue": "Message: no such element: Unable to locate element: {\"method\":\"xpath\",\"selector\":\"//div[@class='css-1dbjc4n r-13awgt0']/div[@class='css-1dbjc4n r-13awgt0']/div[@class='css-1dbjc4n r-tqpus0']/div[@class='css-1dbjc4n r-1loqt21']/div[@class='css-1dbjc4n r-1awozwy r-13awgt0 r-18u37iz r-1777fci r-edyy15']/input[@class='css-11aywtz r-jwli3a r-13awgt0 r-t1w4ow r-1b43r93 r-b88u0q r-rjixqe r-bcqeeo r-1ny4l3l r-10paoce r-13n6l4s']/input[@class='css-11aywtz r-cwxd7f r-13awgt0 r-t1w4ow r-ubezar r-135wba7 r-bcqeeo r-1ny4l3l r-10paoce r-13n6l4s']\"}\n  (Session info: chrome=119.0.6045.106); For documentation on this error, please visit: https://www.selenium.dev/documentation/webdriver/troubleshooting/errors#no-such-element-exception\nStacktrace:\n\tGetHandleVerifier [0x00007FF6964F82B2+55298]\n\t(No symbol) [0x00007FF696465E02]\n\t(No symbol) [0x00007FF6963205AB]\n\t(No symbol) [0x00007FF69636175C]\n\t(No symbol) [0x00007FF6963618DC]\n\t(No symbol) [0x00007FF69639CBC7]\n\t(No symbol) [0x00007FF6963820EF]\n\t(No symbol) [0x00007FF69639AAA4]\n\t(No symbol) [0x00007FF696381E83]\n\t(No symbol) [0x00007FF69635670A]\n\t(No symbol) [0x00007FF696357964]\n\tGetHandleVerifier [0x00007FF696870AAB+3694587]\n\tGetHandleVerifier [0x00007FF6968C728E+4048862]\n\tGetHandleVerifier [0x00007FF6968BF173+4015811]\n\tGetHandleVerifier [0x00007FF6965947D6+695590]\n\t(No symbol) [0x00007FF696470CE8]\n\t(No symbol) [0x00007FF69646CF34]\n\t(No symbol) [0x00007FF69646D062]\n\t(No symbol) [0x00007FF69645D3A3]\n\tBaseThreadInitThunk [0x00007FFFDFB3257D+29]\n\tRtlUserThreadStart [0x00007FFFE092AA78+40]\n",
     "output_type": "error",
     "traceback": [
      "\u001b[1;31m---------------------------------------------------------------------------\u001b[0m",
      "\u001b[1;31mNoSuchElementException\u001b[0m                    Traceback (most recent call last)",
      "Cell \u001b[1;32mIn[14], line 1\u001b[0m\n\u001b[1;32m----> 1\u001b[0m search_bar_location \u001b[38;5;241m=\u001b[39m \u001b[43mdriver\u001b[49m\u001b[38;5;241;43m.\u001b[39;49m\u001b[43mfind_element\u001b[49m\u001b[43m(\u001b[49m\u001b[43mBy\u001b[49m\u001b[38;5;241;43m.\u001b[39;49m\u001b[43mXPATH\u001b[49m\u001b[43m,\u001b[49m\u001b[43m \u001b[49m\u001b[38;5;124;43m\"\u001b[39;49m\u001b[38;5;124;43m//div[@class=\u001b[39;49m\u001b[38;5;124;43m'\u001b[39;49m\u001b[38;5;124;43mcss-1dbjc4n r-13awgt0\u001b[39;49m\u001b[38;5;124;43m'\u001b[39;49m\u001b[38;5;124;43m]/div[@class=\u001b[39;49m\u001b[38;5;124;43m'\u001b[39;49m\u001b[38;5;124;43mcss-1dbjc4n r-13awgt0\u001b[39;49m\u001b[38;5;124;43m'\u001b[39;49m\u001b[38;5;124;43m]/div[@class=\u001b[39;49m\u001b[38;5;124;43m'\u001b[39;49m\u001b[38;5;124;43mcss-1dbjc4n r-tqpus0\u001b[39;49m\u001b[38;5;124;43m'\u001b[39;49m\u001b[38;5;124;43m]/div[@class=\u001b[39;49m\u001b[38;5;124;43m'\u001b[39;49m\u001b[38;5;124;43mcss-1dbjc4n r-1loqt21\u001b[39;49m\u001b[38;5;124;43m'\u001b[39;49m\u001b[38;5;124;43m]\u001b[39;49m\u001b[38;5;124;43m\"\u001b[39;49m\u001b[43m \u001b[49m\u001b[38;5;241;43m+\u001b[39;49m\n\u001b[0;32m      2\u001b[0m \u001b[43m                                          \u001b[49m\u001b[38;5;124;43m\"\u001b[39;49m\u001b[38;5;124;43m/div[@class=\u001b[39;49m\u001b[38;5;124;43m'\u001b[39;49m\u001b[38;5;124;43mcss-1dbjc4n r-1awozwy r-13awgt0 r-18u37iz r-1777fci r-edyy15\u001b[39;49m\u001b[38;5;124;43m'\u001b[39;49m\u001b[38;5;124;43m]\u001b[39;49m\u001b[38;5;124;43m\"\u001b[39;49m\u001b[43m \u001b[49m\u001b[38;5;241;43m+\u001b[39;49m\u001b[43m \u001b[49m\n\u001b[0;32m      3\u001b[0m \u001b[43m                                          \u001b[49m\u001b[38;5;124;43m\"\u001b[39;49m\u001b[38;5;124;43m/input[@class=\u001b[39;49m\u001b[38;5;124;43m'\u001b[39;49m\u001b[38;5;124;43mcss-11aywtz r-jwli3a r-13awgt0 r-t1w4ow r-1b43r93 r-b88u0q r-rjixqe r-bcqeeo r-1ny4l3l r-10paoce r-13n6l4s\u001b[39;49m\u001b[38;5;124;43m'\u001b[39;49m\u001b[38;5;124;43m]\u001b[39;49m\u001b[38;5;124;43m\"\u001b[39;49m\u001b[43m \u001b[49m\u001b[38;5;241;43m+\u001b[39;49m\u001b[43m \u001b[49m\n\u001b[0;32m      4\u001b[0m \u001b[43m                                          \u001b[49m\u001b[38;5;124;43m\"\u001b[39;49m\u001b[38;5;124;43m/input[@class=\u001b[39;49m\u001b[38;5;124;43m'\u001b[39;49m\u001b[38;5;124;43mcss-11aywtz r-cwxd7f r-13awgt0 r-t1w4ow r-ubezar r-135wba7 r-bcqeeo r-1ny4l3l r-10paoce r-13n6l4s\u001b[39;49m\u001b[38;5;124;43m'\u001b[39;49m\u001b[38;5;124;43m]\u001b[39;49m\u001b[38;5;124;43m\"\u001b[39;49m\u001b[43m)\u001b[49m\n\u001b[0;32m      5\u001b[0m search_bar\u001b[38;5;241m.\u001b[39mclear()\n\u001b[0;32m      6\u001b[0m search_bar\u001b[38;5;241m.\u001b[39msend_keys(\u001b[38;5;124m\"\u001b[39m\u001b[38;5;124mBali\u001b[39m\u001b[38;5;124m\"\u001b[39m)\n",
      "File \u001b[1;32mC:\\Projects\\Python\\DataScience\\venv\\Lib\\site-packages\\selenium\\webdriver\\remote\\webdriver.py:740\u001b[0m, in \u001b[0;36mWebDriver.find_element\u001b[1;34m(self, by, value)\u001b[0m\n\u001b[0;32m    737\u001b[0m     by \u001b[38;5;241m=\u001b[39m By\u001b[38;5;241m.\u001b[39mCSS_SELECTOR\n\u001b[0;32m    738\u001b[0m     value \u001b[38;5;241m=\u001b[39m \u001b[38;5;124mf\u001b[39m\u001b[38;5;124m'\u001b[39m\u001b[38;5;124m[name=\u001b[39m\u001b[38;5;124m\"\u001b[39m\u001b[38;5;132;01m{\u001b[39;00mvalue\u001b[38;5;132;01m}\u001b[39;00m\u001b[38;5;124m\"\u001b[39m\u001b[38;5;124m]\u001b[39m\u001b[38;5;124m'\u001b[39m\n\u001b[1;32m--> 740\u001b[0m \u001b[38;5;28;01mreturn\u001b[39;00m \u001b[38;5;28;43mself\u001b[39;49m\u001b[38;5;241;43m.\u001b[39;49m\u001b[43mexecute\u001b[49m\u001b[43m(\u001b[49m\u001b[43mCommand\u001b[49m\u001b[38;5;241;43m.\u001b[39;49m\u001b[43mFIND_ELEMENT\u001b[49m\u001b[43m,\u001b[49m\u001b[43m \u001b[49m\u001b[43m{\u001b[49m\u001b[38;5;124;43m\"\u001b[39;49m\u001b[38;5;124;43musing\u001b[39;49m\u001b[38;5;124;43m\"\u001b[39;49m\u001b[43m:\u001b[49m\u001b[43m \u001b[49m\u001b[43mby\u001b[49m\u001b[43m,\u001b[49m\u001b[43m \u001b[49m\u001b[38;5;124;43m\"\u001b[39;49m\u001b[38;5;124;43mvalue\u001b[39;49m\u001b[38;5;124;43m\"\u001b[39;49m\u001b[43m:\u001b[49m\u001b[43m \u001b[49m\u001b[43mvalue\u001b[49m\u001b[43m}\u001b[49m\u001b[43m)\u001b[49m[\u001b[38;5;124m\"\u001b[39m\u001b[38;5;124mvalue\u001b[39m\u001b[38;5;124m\"\u001b[39m]\n",
      "File \u001b[1;32mC:\\Projects\\Python\\DataScience\\venv\\Lib\\site-packages\\selenium\\webdriver\\remote\\webdriver.py:346\u001b[0m, in \u001b[0;36mWebDriver.execute\u001b[1;34m(self, driver_command, params)\u001b[0m\n\u001b[0;32m    344\u001b[0m response \u001b[38;5;241m=\u001b[39m \u001b[38;5;28mself\u001b[39m\u001b[38;5;241m.\u001b[39mcommand_executor\u001b[38;5;241m.\u001b[39mexecute(driver_command, params)\n\u001b[0;32m    345\u001b[0m \u001b[38;5;28;01mif\u001b[39;00m response:\n\u001b[1;32m--> 346\u001b[0m     \u001b[38;5;28;43mself\u001b[39;49m\u001b[38;5;241;43m.\u001b[39;49m\u001b[43merror_handler\u001b[49m\u001b[38;5;241;43m.\u001b[39;49m\u001b[43mcheck_response\u001b[49m\u001b[43m(\u001b[49m\u001b[43mresponse\u001b[49m\u001b[43m)\u001b[49m\n\u001b[0;32m    347\u001b[0m     response[\u001b[38;5;124m\"\u001b[39m\u001b[38;5;124mvalue\u001b[39m\u001b[38;5;124m\"\u001b[39m] \u001b[38;5;241m=\u001b[39m \u001b[38;5;28mself\u001b[39m\u001b[38;5;241m.\u001b[39m_unwrap_value(response\u001b[38;5;241m.\u001b[39mget(\u001b[38;5;124m\"\u001b[39m\u001b[38;5;124mvalue\u001b[39m\u001b[38;5;124m\"\u001b[39m, \u001b[38;5;28;01mNone\u001b[39;00m))\n\u001b[0;32m    348\u001b[0m     \u001b[38;5;28;01mreturn\u001b[39;00m response\n",
      "File \u001b[1;32mC:\\Projects\\Python\\DataScience\\venv\\Lib\\site-packages\\selenium\\webdriver\\remote\\errorhandler.py:229\u001b[0m, in \u001b[0;36mErrorHandler.check_response\u001b[1;34m(self, response)\u001b[0m\n\u001b[0;32m    227\u001b[0m         alert_text \u001b[38;5;241m=\u001b[39m value[\u001b[38;5;124m\"\u001b[39m\u001b[38;5;124malert\u001b[39m\u001b[38;5;124m\"\u001b[39m]\u001b[38;5;241m.\u001b[39mget(\u001b[38;5;124m\"\u001b[39m\u001b[38;5;124mtext\u001b[39m\u001b[38;5;124m\"\u001b[39m)\n\u001b[0;32m    228\u001b[0m     \u001b[38;5;28;01mraise\u001b[39;00m exception_class(message, screen, stacktrace, alert_text)  \u001b[38;5;66;03m# type: ignore[call-arg]  # mypy is not smart enough here\u001b[39;00m\n\u001b[1;32m--> 229\u001b[0m \u001b[38;5;28;01mraise\u001b[39;00m exception_class(message, screen, stacktrace)\n",
      "\u001b[1;31mNoSuchElementException\u001b[0m: Message: no such element: Unable to locate element: {\"method\":\"xpath\",\"selector\":\"//div[@class='css-1dbjc4n r-13awgt0']/div[@class='css-1dbjc4n r-13awgt0']/div[@class='css-1dbjc4n r-tqpus0']/div[@class='css-1dbjc4n r-1loqt21']/div[@class='css-1dbjc4n r-1awozwy r-13awgt0 r-18u37iz r-1777fci r-edyy15']/input[@class='css-11aywtz r-jwli3a r-13awgt0 r-t1w4ow r-1b43r93 r-b88u0q r-rjixqe r-bcqeeo r-1ny4l3l r-10paoce r-13n6l4s']/input[@class='css-11aywtz r-cwxd7f r-13awgt0 r-t1w4ow r-ubezar r-135wba7 r-bcqeeo r-1ny4l3l r-10paoce r-13n6l4s']\"}\n  (Session info: chrome=119.0.6045.106); For documentation on this error, please visit: https://www.selenium.dev/documentation/webdriver/troubleshooting/errors#no-such-element-exception\nStacktrace:\n\tGetHandleVerifier [0x00007FF6964F82B2+55298]\n\t(No symbol) [0x00007FF696465E02]\n\t(No symbol) [0x00007FF6963205AB]\n\t(No symbol) [0x00007FF69636175C]\n\t(No symbol) [0x00007FF6963618DC]\n\t(No symbol) [0x00007FF69639CBC7]\n\t(No symbol) [0x00007FF6963820EF]\n\t(No symbol) [0x00007FF69639AAA4]\n\t(No symbol) [0x00007FF696381E83]\n\t(No symbol) [0x00007FF69635670A]\n\t(No symbol) [0x00007FF696357964]\n\tGetHandleVerifier [0x00007FF696870AAB+3694587]\n\tGetHandleVerifier [0x00007FF6968C728E+4048862]\n\tGetHandleVerifier [0x00007FF6968BF173+4015811]\n\tGetHandleVerifier [0x00007FF6965947D6+695590]\n\t(No symbol) [0x00007FF696470CE8]\n\t(No symbol) [0x00007FF69646CF34]\n\t(No symbol) [0x00007FF69646D062]\n\t(No symbol) [0x00007FF69645D3A3]\n\tBaseThreadInitThunk [0x00007FFFDFB3257D+29]\n\tRtlUserThreadStart [0x00007FFFE092AA78+40]\n"
     ]
    }
   ],
   "source": [
    "search_bar_location = driver.find_element(By.XPATH, \"//div[@class='css-1dbjc4n r-13awgt0']/div[@class='css-1dbjc4n r-13awgt0']/div[@class='css-1dbjc4n r-tqpus0']/div[@class='css-1dbjc4n r-1loqt21']\" +\n",
    "                                          \"/div[@class='css-1dbjc4n r-1awozwy r-13awgt0 r-18u37iz r-1777fci r-edyy15']\" + \n",
    "                                          \"/input[@class='css-11aywtz r-jwli3a r-13awgt0 r-t1w4ow r-1b43r93 r-b88u0q r-rjixqe r-bcqeeo r-1ny4l3l r-10paoce r-13n6l4s']\" + \n",
    "                                          \"/input[@class='css-11aywtz r-cwxd7f r-13awgt0 r-t1w4ow r-ubezar r-135wba7 r-bcqeeo r-1ny4l3l r-10paoce r-13n6l4s']\")\n",
    "search_bar.clear()\n",
    "search_bar.send_keys(\"Bali\")\n",
    "search_bar.send_keys(Keys.RETURN)"
   ]
  },
  {
   "cell_type": "code",
   "execution_count": null,
   "id": "85ef149a-a47a-4164-8ac9-18bfd8b12d34",
   "metadata": {},
   "outputs": [],
   "source": [
    "search_bar_durations = driver.find_element(By.XPATH, \"//div[@class='css-1dbjc4n r-1wnm6qf']/div[@class='css-1dbjc4n']/div[@class='css-1dbjc4n r-tqpus0']/div[@class='css-1dbjc4n \" + \n",
    "                                           \"r-1loqt21']/div[@class='css-1dbjc4n r-1awozwy r-13awgt0 r-18u37iz r-1777fci r-edyy15']/input[@class='css-11aywtz r-jwli3a r-13awgt0 \" +\n",
    "                                           \"r-t1w4ow r-1b43r93 r-b88u0q r-rjixqe r-bcqeeo r-1ny4l3l r-10paoce r-13n6l4s']\")\n",
    "search_bar_durations.clear()"
   ]
  },
  {
   "cell_type": "code",
   "execution_count": 17,
   "id": "2ac51fe7-a763-4f0f-b1ef-5ec521240b55",
   "metadata": {},
   "outputs": [],
   "source": [
    "driver.find_element(By.XPATH, \"//div[@class='css-18t94o4 css-1dbjc4n r-kdyh1x r-1loqt21 r-eu3ka r-10paoce r-1e081e0 r-5njf8e r-1otgn73 r-lrvibr']\").click()"
   ]
  },
  {
   "cell_type": "code",
   "execution_count": 19,
   "id": "79f7f47c-bc36-41fe-8960-f9fea976416a",
   "metadata": {},
   "outputs": [],
   "source": [
    "hotel_list = driver.find_element(By.XPATH, \"//div[@class='css-1dbjc4n r-9wfyu0 r-1i6dfp5 r-1o3kkbv']\")"
   ]
  },
  {
   "cell_type": "code",
   "execution_count": 20,
   "id": "021ffb05-11df-4d63-87a6-fc43c9da031c",
   "metadata": {},
   "outputs": [
    {
     "data": {
      "text/plain": [
       "<selenium.webdriver.remote.webelement.WebElement (session=\"3d1569572c1dfe4cf958e082b98485a6\", element=\"39C1D5B5B3C9713B560BA012657D6C2B_element_256\")>"
      ]
     },
     "execution_count": 20,
     "metadata": {},
     "output_type": "execute_result"
    }
   ],
   "source": [
    "hotel_list"
   ]
  },
  {
   "cell_type": "code",
   "execution_count": null,
   "id": "ae3bf042-f65c-4b70-84a2-a274590a979c",
   "metadata": {},
   "outputs": [],
   "source": []
  },
  {
   "cell_type": "code",
   "execution_count": null,
   "id": "0cce0070-b9fc-4ca2-8e2f-da497ea72d83",
   "metadata": {},
   "outputs": [],
   "source": [
    "# driver.close()"
   ]
  }
 ],
 "metadata": {
  "kernelspec": {
   "display_name": "Python 3 (ipykernel)",
   "language": "python",
   "name": "python3"
  },
  "language_info": {
   "codemirror_mode": {
    "name": "ipython",
    "version": 3
   },
   "file_extension": ".py",
   "mimetype": "text/x-python",
   "name": "python",
   "nbconvert_exporter": "python",
   "pygments_lexer": "ipython3",
   "version": "3.12.0"
  }
 },
 "nbformat": 4,
 "nbformat_minor": 5
}
